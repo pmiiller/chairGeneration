{
 "cells": [
  {
   "cell_type": "code",
   "execution_count": 1,
   "metadata": {},
   "outputs": [],
   "source": [
    "import sys\n",
    "import os.path\n",
    "if os.path.abspath('..') not in sys.path:\n",
    "    sys.path.insert(0, os.path.abspath('..'))"
   ]
  },
  {
   "cell_type": "markdown",
   "metadata": {},
   "source": [
    "# Mix-n-Match Modelling"
   ]
  },
  {
   "cell_type": "markdown",
   "metadata": {},
   "source": [
    "## Approach\n",
    "\n",
    "### Setup\n",
    "    \n",
    "    - For each chair\n",
    "        - Create oriented bounding box for each part using the trimesh library. A bounding box is a simpler mesh that is computationally easier to process but still maintains the position, general dimensions, and orientation.\n",
    "        - Create a template using those OBBs. The templates are a list of parts that will be replaced by another chair part in the creation step"
   ]
  },
  {
   "cell_type": "code",
   "execution_count": 2,
   "metadata": {},
   "outputs": [],
   "source": [
    "import trimesh_obb\n",
    "from trimesh.viewer.notebook import scene_to_notebook\n",
    "from IPython.display import display, HTML\n",
    "part = os.path.join('..', 'clean_mesh', 'ChairBasic2', 'meshes', 'LegBackLeft.obj')\n",
    "obb = trimesh_obb.getOBB(part)\n",
    "# obb.vertices\n",
    "# scene_to_notebook(obb.scene())"
   ]
  },
  {
   "cell_type": "markdown",
   "metadata": {},
   "source": [
    "### To generate a new chair\n",
    "    - Pick a template\n",
    "    - For each part in the template\n",
    "        - Compute cost to align all the chairs to the template part\n",
    "        - Find the minimum and select as the new part\n",
    "        - Transform the new part to align "
   ]
  },
  {
   "cell_type": "markdown",
   "metadata": {},
   "source": [
    "### Baseline\n",
    "Our initial approach for creating a chair is to pick random chair parts for each part in a template. Obviously this will not yield good results so created a criteria for which part should be chosen.\n",
    "\n",
    "### Deformation Cost\n",
    "To choose which chair part to add to the mesh, we compute the deformation cost of aligning one chair part bounding box to the template chair part. This cost is sum of the\n",
    "    - Square difference of the centroids of the oriented bounding box\n",
    "    - Square difference of the extents\n",
    "    - Procrustes Analysis transformation cost"
   ]
  },
  {
   "cell_type": "markdown",
   "metadata": {},
   "source": [
    "## Improvements"
   ]
  },
  {
   "cell_type": "markdown",
   "metadata": {},
   "source": [
    "### Scorer"
   ]
  },
  {
   "cell_type": "markdown",
   "metadata": {},
   "source": [
    "### Clustering"
   ]
  },
  {
   "cell_type": "markdown",
   "metadata": {},
   "source": [
    "### Symmetry"
   ]
  },
  {
   "cell_type": "code",
   "execution_count": null,
   "metadata": {},
   "outputs": [],
   "source": []
  }
 ],
 "metadata": {
  "kernelspec": {
   "display_name": "Python 3",
   "language": "python",
   "name": "python3"
  },
  "language_info": {
   "codemirror_mode": {
    "name": "ipython",
    "version": 3
   },
   "file_extension": ".py",
   "mimetype": "text/x-python",
   "name": "python",
   "nbconvert_exporter": "python",
   "pygments_lexer": "ipython3",
   "version": "3.5.2"
  }
 },
 "nbformat": 4,
 "nbformat_minor": 2
}
